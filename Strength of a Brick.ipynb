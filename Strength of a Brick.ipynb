{
 "cells": [
  {
   "cell_type": "code",
   "execution_count": 1,
   "id": "646d1caf",
   "metadata": {},
   "outputs": [],
   "source": [
    "# Importing all the libraries required to study the data-set\n",
    "import pandas as pd\n",
    "import numpy as np\n",
    "import matplotlib.pyplot as plt\n",
    "import seaborn as sns\n",
    "#Importing all test to test the dependence between the features\n",
    "from scipy.stats import f_oneway # One-Way ANOVA.\n",
    "from scipy.stats import chi2_contingency # chi-square test\n",
    "%matplotlib inline"
   ]
  },
  {
   "cell_type": "code",
   "execution_count": 2,
   "id": "106fd0ae",
   "metadata": {},
   "outputs": [],
   "source": [
    "# Importing the data-set\n",
    "df = pd.read_csv(\"Brick_strength.csv\")"
   ]
  },
  {
   "cell_type": "code",
   "execution_count": 3,
   "id": "c97e01fd",
   "metadata": {},
   "outputs": [
    {
     "data": {
      "text/plain": [
       "Index(['cement', 'slag', 'ash', 'water', 'superplastic', 'coarseagg',\n",
       "       'fineagg', 'age', 'strength'],\n",
       "      dtype='object')"
      ]
     },
     "execution_count": 3,
     "metadata": {},
     "output_type": "execute_result"
    }
   ],
   "source": [
    "df.columns"
   ]
  },
  {
   "cell_type": "code",
   "execution_count": 4,
   "id": "905e38d6",
   "metadata": {},
   "outputs": [
    {
     "name": "stdout",
     "output_type": "stream",
     "text": [
      "<class 'pandas.core.frame.DataFrame'>\n",
      "RangeIndex: 1030 entries, 0 to 1029\n",
      "Data columns (total 9 columns):\n",
      " #   Column        Non-Null Count  Dtype  \n",
      "---  ------        --------------  -----  \n",
      " 0   cement        1030 non-null   float64\n",
      " 1   slag          1030 non-null   float64\n",
      " 2   ash           1030 non-null   float64\n",
      " 3   water         1030 non-null   float64\n",
      " 4   superplastic  1030 non-null   float64\n",
      " 5   coarseagg     1030 non-null   float64\n",
      " 6   fineagg       1030 non-null   float64\n",
      " 7   age           1030 non-null   int64  \n",
      " 8   strength      1030 non-null   float64\n",
      "dtypes: float64(8), int64(1)\n",
      "memory usage: 72.5 KB\n"
     ]
    }
   ],
   "source": [
    "df.info()"
   ]
  },
  {
   "cell_type": "code",
   "execution_count": 5,
   "id": "fbc8c2b4",
   "metadata": {},
   "outputs": [
    {
     "data": {
      "text/html": [
       "<div>\n",
       "<style scoped>\n",
       "    .dataframe tbody tr th:only-of-type {\n",
       "        vertical-align: middle;\n",
       "    }\n",
       "\n",
       "    .dataframe tbody tr th {\n",
       "        vertical-align: top;\n",
       "    }\n",
       "\n",
       "    .dataframe thead th {\n",
       "        text-align: right;\n",
       "    }\n",
       "</style>\n",
       "<table border=\"1\" class=\"dataframe\">\n",
       "  <thead>\n",
       "    <tr style=\"text-align: right;\">\n",
       "      <th></th>\n",
       "      <th>cement</th>\n",
       "      <th>slag</th>\n",
       "      <th>ash</th>\n",
       "      <th>water</th>\n",
       "      <th>superplastic</th>\n",
       "      <th>coarseagg</th>\n",
       "      <th>fineagg</th>\n",
       "      <th>age</th>\n",
       "      <th>strength</th>\n",
       "    </tr>\n",
       "  </thead>\n",
       "  <tbody>\n",
       "    <tr>\n",
       "      <th>0</th>\n",
       "      <td>141.3</td>\n",
       "      <td>212.0</td>\n",
       "      <td>0.0</td>\n",
       "      <td>203.5</td>\n",
       "      <td>0.0</td>\n",
       "      <td>971.8</td>\n",
       "      <td>748.5</td>\n",
       "      <td>28</td>\n",
       "      <td>29.89</td>\n",
       "    </tr>\n",
       "    <tr>\n",
       "      <th>1</th>\n",
       "      <td>168.9</td>\n",
       "      <td>42.2</td>\n",
       "      <td>124.3</td>\n",
       "      <td>158.3</td>\n",
       "      <td>10.8</td>\n",
       "      <td>1080.8</td>\n",
       "      <td>796.2</td>\n",
       "      <td>14</td>\n",
       "      <td>23.51</td>\n",
       "    </tr>\n",
       "    <tr>\n",
       "      <th>2</th>\n",
       "      <td>250.0</td>\n",
       "      <td>0.0</td>\n",
       "      <td>95.7</td>\n",
       "      <td>187.4</td>\n",
       "      <td>5.5</td>\n",
       "      <td>956.9</td>\n",
       "      <td>861.2</td>\n",
       "      <td>28</td>\n",
       "      <td>29.22</td>\n",
       "    </tr>\n",
       "    <tr>\n",
       "      <th>3</th>\n",
       "      <td>266.0</td>\n",
       "      <td>114.0</td>\n",
       "      <td>0.0</td>\n",
       "      <td>228.0</td>\n",
       "      <td>0.0</td>\n",
       "      <td>932.0</td>\n",
       "      <td>670.0</td>\n",
       "      <td>28</td>\n",
       "      <td>45.85</td>\n",
       "    </tr>\n",
       "    <tr>\n",
       "      <th>4</th>\n",
       "      <td>154.8</td>\n",
       "      <td>183.4</td>\n",
       "      <td>0.0</td>\n",
       "      <td>193.3</td>\n",
       "      <td>9.1</td>\n",
       "      <td>1047.4</td>\n",
       "      <td>696.7</td>\n",
       "      <td>28</td>\n",
       "      <td>18.29</td>\n",
       "    </tr>\n",
       "  </tbody>\n",
       "</table>\n",
       "</div>"
      ],
      "text/plain": [
       "   cement   slag    ash  water  superplastic  coarseagg  fineagg  age  \\\n",
       "0   141.3  212.0    0.0  203.5           0.0      971.8    748.5   28   \n",
       "1   168.9   42.2  124.3  158.3          10.8     1080.8    796.2   14   \n",
       "2   250.0    0.0   95.7  187.4           5.5      956.9    861.2   28   \n",
       "3   266.0  114.0    0.0  228.0           0.0      932.0    670.0   28   \n",
       "4   154.8  183.4    0.0  193.3           9.1     1047.4    696.7   28   \n",
       "\n",
       "   strength  \n",
       "0     29.89  \n",
       "1     23.51  \n",
       "2     29.22  \n",
       "3     45.85  \n",
       "4     18.29  "
      ]
     },
     "execution_count": 5,
     "metadata": {},
     "output_type": "execute_result"
    }
   ],
   "source": [
    "df.head()"
   ]
  },
  {
   "cell_type": "code",
   "execution_count": 6,
   "id": "ba9e703d",
   "metadata": {},
   "outputs": [
    {
     "data": {
      "text/plain": [
       "cement          0\n",
       "slag            0\n",
       "ash             0\n",
       "water           0\n",
       "superplastic    0\n",
       "coarseagg       0\n",
       "fineagg         0\n",
       "age             0\n",
       "strength        0\n",
       "dtype: int64"
      ]
     },
     "execution_count": 6,
     "metadata": {},
     "output_type": "execute_result"
    }
   ],
   "source": [
    "df.isnull().sum()"
   ]
  },
  {
   "cell_type": "code",
   "execution_count": 7,
   "id": "3563774d",
   "metadata": {},
   "outputs": [],
   "source": [
    "df.drop_duplicates(inplace = True)"
   ]
  },
  {
   "cell_type": "code",
   "execution_count": 8,
   "id": "41722baa",
   "metadata": {},
   "outputs": [
    {
     "data": {
      "text/plain": [
       "(1005, 9)"
      ]
     },
     "execution_count": 8,
     "metadata": {},
     "output_type": "execute_result"
    }
   ],
   "source": [
    "df.shape"
   ]
  },
  {
   "cell_type": "code",
   "execution_count": 9,
   "id": "53580bcb",
   "metadata": {},
   "outputs": [],
   "source": [
    "df1 = df.copy()"
   ]
  },
  {
   "cell_type": "code",
   "execution_count": 10,
   "id": "12ed512d",
   "metadata": {},
   "outputs": [],
   "source": [
    "df1.drop('strength',axis = 1, inplace = True)"
   ]
  },
  {
   "cell_type": "code",
   "execution_count": 11,
   "id": "22729129",
   "metadata": {},
   "outputs": [
    {
     "data": {
      "text/html": [
       "<div>\n",
       "<style scoped>\n",
       "    .dataframe tbody tr th:only-of-type {\n",
       "        vertical-align: middle;\n",
       "    }\n",
       "\n",
       "    .dataframe tbody tr th {\n",
       "        vertical-align: top;\n",
       "    }\n",
       "\n",
       "    .dataframe thead th {\n",
       "        text-align: right;\n",
       "    }\n",
       "</style>\n",
       "<table border=\"1\" class=\"dataframe\">\n",
       "  <thead>\n",
       "    <tr style=\"text-align: right;\">\n",
       "      <th></th>\n",
       "      <th>cement</th>\n",
       "      <th>slag</th>\n",
       "      <th>ash</th>\n",
       "      <th>water</th>\n",
       "      <th>superplastic</th>\n",
       "      <th>coarseagg</th>\n",
       "      <th>fineagg</th>\n",
       "      <th>age</th>\n",
       "    </tr>\n",
       "  </thead>\n",
       "  <tbody>\n",
       "    <tr>\n",
       "      <th>0</th>\n",
       "      <td>141.3</td>\n",
       "      <td>212.0</td>\n",
       "      <td>0.0</td>\n",
       "      <td>203.5</td>\n",
       "      <td>0.0</td>\n",
       "      <td>971.8</td>\n",
       "      <td>748.5</td>\n",
       "      <td>28</td>\n",
       "    </tr>\n",
       "    <tr>\n",
       "      <th>1</th>\n",
       "      <td>168.9</td>\n",
       "      <td>42.2</td>\n",
       "      <td>124.3</td>\n",
       "      <td>158.3</td>\n",
       "      <td>10.8</td>\n",
       "      <td>1080.8</td>\n",
       "      <td>796.2</td>\n",
       "      <td>14</td>\n",
       "    </tr>\n",
       "    <tr>\n",
       "      <th>2</th>\n",
       "      <td>250.0</td>\n",
       "      <td>0.0</td>\n",
       "      <td>95.7</td>\n",
       "      <td>187.4</td>\n",
       "      <td>5.5</td>\n",
       "      <td>956.9</td>\n",
       "      <td>861.2</td>\n",
       "      <td>28</td>\n",
       "    </tr>\n",
       "    <tr>\n",
       "      <th>3</th>\n",
       "      <td>266.0</td>\n",
       "      <td>114.0</td>\n",
       "      <td>0.0</td>\n",
       "      <td>228.0</td>\n",
       "      <td>0.0</td>\n",
       "      <td>932.0</td>\n",
       "      <td>670.0</td>\n",
       "      <td>28</td>\n",
       "    </tr>\n",
       "    <tr>\n",
       "      <th>4</th>\n",
       "      <td>154.8</td>\n",
       "      <td>183.4</td>\n",
       "      <td>0.0</td>\n",
       "      <td>193.3</td>\n",
       "      <td>9.1</td>\n",
       "      <td>1047.4</td>\n",
       "      <td>696.7</td>\n",
       "      <td>28</td>\n",
       "    </tr>\n",
       "    <tr>\n",
       "      <th>...</th>\n",
       "      <td>...</td>\n",
       "      <td>...</td>\n",
       "      <td>...</td>\n",
       "      <td>...</td>\n",
       "      <td>...</td>\n",
       "      <td>...</td>\n",
       "      <td>...</td>\n",
       "      <td>...</td>\n",
       "    </tr>\n",
       "    <tr>\n",
       "      <th>1025</th>\n",
       "      <td>135.0</td>\n",
       "      <td>0.0</td>\n",
       "      <td>166.0</td>\n",
       "      <td>180.0</td>\n",
       "      <td>10.0</td>\n",
       "      <td>961.0</td>\n",
       "      <td>805.0</td>\n",
       "      <td>28</td>\n",
       "    </tr>\n",
       "    <tr>\n",
       "      <th>1026</th>\n",
       "      <td>531.3</td>\n",
       "      <td>0.0</td>\n",
       "      <td>0.0</td>\n",
       "      <td>141.8</td>\n",
       "      <td>28.2</td>\n",
       "      <td>852.1</td>\n",
       "      <td>893.7</td>\n",
       "      <td>3</td>\n",
       "    </tr>\n",
       "    <tr>\n",
       "      <th>1027</th>\n",
       "      <td>276.4</td>\n",
       "      <td>116.0</td>\n",
       "      <td>90.3</td>\n",
       "      <td>179.6</td>\n",
       "      <td>8.9</td>\n",
       "      <td>870.1</td>\n",
       "      <td>768.3</td>\n",
       "      <td>28</td>\n",
       "    </tr>\n",
       "    <tr>\n",
       "      <th>1028</th>\n",
       "      <td>342.0</td>\n",
       "      <td>38.0</td>\n",
       "      <td>0.0</td>\n",
       "      <td>228.0</td>\n",
       "      <td>0.0</td>\n",
       "      <td>932.0</td>\n",
       "      <td>670.0</td>\n",
       "      <td>270</td>\n",
       "    </tr>\n",
       "    <tr>\n",
       "      <th>1029</th>\n",
       "      <td>540.0</td>\n",
       "      <td>0.0</td>\n",
       "      <td>0.0</td>\n",
       "      <td>173.0</td>\n",
       "      <td>0.0</td>\n",
       "      <td>1125.0</td>\n",
       "      <td>613.0</td>\n",
       "      <td>7</td>\n",
       "    </tr>\n",
       "  </tbody>\n",
       "</table>\n",
       "<p>1005 rows × 8 columns</p>\n",
       "</div>"
      ],
      "text/plain": [
       "      cement   slag    ash  water  superplastic  coarseagg  fineagg  age\n",
       "0      141.3  212.0    0.0  203.5           0.0      971.8    748.5   28\n",
       "1      168.9   42.2  124.3  158.3          10.8     1080.8    796.2   14\n",
       "2      250.0    0.0   95.7  187.4           5.5      956.9    861.2   28\n",
       "3      266.0  114.0    0.0  228.0           0.0      932.0    670.0   28\n",
       "4      154.8  183.4    0.0  193.3           9.1     1047.4    696.7   28\n",
       "...      ...    ...    ...    ...           ...        ...      ...  ...\n",
       "1025   135.0    0.0  166.0  180.0          10.0      961.0    805.0   28\n",
       "1026   531.3    0.0    0.0  141.8          28.2      852.1    893.7    3\n",
       "1027   276.4  116.0   90.3  179.6           8.9      870.1    768.3   28\n",
       "1028   342.0   38.0    0.0  228.0           0.0      932.0    670.0  270\n",
       "1029   540.0    0.0    0.0  173.0           0.0     1125.0    613.0    7\n",
       "\n",
       "[1005 rows x 8 columns]"
      ]
     },
     "execution_count": 11,
     "metadata": {},
     "output_type": "execute_result"
    }
   ],
   "source": [
    "df1"
   ]
  },
  {
   "cell_type": "code",
   "execution_count": 12,
   "id": "2e4dbfb7",
   "metadata": {},
   "outputs": [
    {
     "data": {
      "text/html": [
       "<div>\n",
       "<style scoped>\n",
       "    .dataframe tbody tr th:only-of-type {\n",
       "        vertical-align: middle;\n",
       "    }\n",
       "\n",
       "    .dataframe tbody tr th {\n",
       "        vertical-align: top;\n",
       "    }\n",
       "\n",
       "    .dataframe thead th {\n",
       "        text-align: right;\n",
       "    }\n",
       "</style>\n",
       "<table border=\"1\" class=\"dataframe\">\n",
       "  <thead>\n",
       "    <tr style=\"text-align: right;\">\n",
       "      <th></th>\n",
       "      <th>cement</th>\n",
       "      <th>slag</th>\n",
       "      <th>ash</th>\n",
       "      <th>water</th>\n",
       "      <th>superplastic</th>\n",
       "      <th>coarseagg</th>\n",
       "      <th>fineagg</th>\n",
       "      <th>age</th>\n",
       "    </tr>\n",
       "  </thead>\n",
       "  <tbody>\n",
       "    <tr>\n",
       "      <th>cement</th>\n",
       "      <td>1.000000</td>\n",
       "      <td>-0.303324</td>\n",
       "      <td>-0.385610</td>\n",
       "      <td>-0.056625</td>\n",
       "      <td>0.060906</td>\n",
       "      <td>-0.086205</td>\n",
       "      <td>-0.245375</td>\n",
       "      <td>0.086348</td>\n",
       "    </tr>\n",
       "    <tr>\n",
       "      <th>slag</th>\n",
       "      <td>-0.303324</td>\n",
       "      <td>1.000000</td>\n",
       "      <td>-0.312352</td>\n",
       "      <td>0.130262</td>\n",
       "      <td>0.019800</td>\n",
       "      <td>-0.277559</td>\n",
       "      <td>-0.289685</td>\n",
       "      <td>-0.042759</td>\n",
       "    </tr>\n",
       "    <tr>\n",
       "      <th>ash</th>\n",
       "      <td>-0.385610</td>\n",
       "      <td>-0.312352</td>\n",
       "      <td>1.000000</td>\n",
       "      <td>-0.283314</td>\n",
       "      <td>0.414213</td>\n",
       "      <td>-0.026468</td>\n",
       "      <td>0.090262</td>\n",
       "      <td>-0.158940</td>\n",
       "    </tr>\n",
       "    <tr>\n",
       "      <th>water</th>\n",
       "      <td>-0.056625</td>\n",
       "      <td>0.130262</td>\n",
       "      <td>-0.283314</td>\n",
       "      <td>1.000000</td>\n",
       "      <td>-0.646946</td>\n",
       "      <td>-0.212480</td>\n",
       "      <td>-0.444915</td>\n",
       "      <td>0.279284</td>\n",
       "    </tr>\n",
       "    <tr>\n",
       "      <th>superplastic</th>\n",
       "      <td>0.060906</td>\n",
       "      <td>0.019800</td>\n",
       "      <td>0.414213</td>\n",
       "      <td>-0.646946</td>\n",
       "      <td>1.000000</td>\n",
       "      <td>-0.241721</td>\n",
       "      <td>0.207993</td>\n",
       "      <td>-0.194076</td>\n",
       "    </tr>\n",
       "    <tr>\n",
       "      <th>coarseagg</th>\n",
       "      <td>-0.086205</td>\n",
       "      <td>-0.277559</td>\n",
       "      <td>-0.026468</td>\n",
       "      <td>-0.212480</td>\n",
       "      <td>-0.241721</td>\n",
       "      <td>1.000000</td>\n",
       "      <td>-0.162187</td>\n",
       "      <td>-0.005264</td>\n",
       "    </tr>\n",
       "    <tr>\n",
       "      <th>fineagg</th>\n",
       "      <td>-0.245375</td>\n",
       "      <td>-0.289685</td>\n",
       "      <td>0.090262</td>\n",
       "      <td>-0.444915</td>\n",
       "      <td>0.207993</td>\n",
       "      <td>-0.162187</td>\n",
       "      <td>1.000000</td>\n",
       "      <td>-0.156572</td>\n",
       "    </tr>\n",
       "    <tr>\n",
       "      <th>age</th>\n",
       "      <td>0.086348</td>\n",
       "      <td>-0.042759</td>\n",
       "      <td>-0.158940</td>\n",
       "      <td>0.279284</td>\n",
       "      <td>-0.194076</td>\n",
       "      <td>-0.005264</td>\n",
       "      <td>-0.156572</td>\n",
       "      <td>1.000000</td>\n",
       "    </tr>\n",
       "  </tbody>\n",
       "</table>\n",
       "</div>"
      ],
      "text/plain": [
       "                cement      slag       ash     water  superplastic  coarseagg  \\\n",
       "cement        1.000000 -0.303324 -0.385610 -0.056625      0.060906  -0.086205   \n",
       "slag         -0.303324  1.000000 -0.312352  0.130262      0.019800  -0.277559   \n",
       "ash          -0.385610 -0.312352  1.000000 -0.283314      0.414213  -0.026468   \n",
       "water        -0.056625  0.130262 -0.283314  1.000000     -0.646946  -0.212480   \n",
       "superplastic  0.060906  0.019800  0.414213 -0.646946      1.000000  -0.241721   \n",
       "coarseagg    -0.086205 -0.277559 -0.026468 -0.212480     -0.241721   1.000000   \n",
       "fineagg      -0.245375 -0.289685  0.090262 -0.444915      0.207993  -0.162187   \n",
       "age           0.086348 -0.042759 -0.158940  0.279284     -0.194076  -0.005264   \n",
       "\n",
       "               fineagg       age  \n",
       "cement       -0.245375  0.086348  \n",
       "slag         -0.289685 -0.042759  \n",
       "ash           0.090262 -0.158940  \n",
       "water        -0.444915  0.279284  \n",
       "superplastic  0.207993 -0.194076  \n",
       "coarseagg    -0.162187 -0.005264  \n",
       "fineagg       1.000000 -0.156572  \n",
       "age          -0.156572  1.000000  "
      ]
     },
     "execution_count": 12,
     "metadata": {},
     "output_type": "execute_result"
    }
   ],
   "source": [
    "df1.corr()"
   ]
  },
  {
   "cell_type": "code",
   "execution_count": 13,
   "id": "6745b6e6",
   "metadata": {},
   "outputs": [
    {
     "data": {
      "text/plain": [
       "<AxesSubplot:>"
      ]
     },
     "execution_count": 13,
     "metadata": {},
     "output_type": "execute_result"
    },
    {
     "data": {
      "image/png": "[encoded data removed]",
      "text/plain": [
       "<Figure size 432x288 with 2 Axes>"
      ]
     },
     "metadata": {
      "needs_background": "light"
     },
     "output_type": "display_data"
    }
   ],
   "source": [
    "sns.heatmap(df1.corr(), annot = True, cmap = 'coolwarm')"
   ]
  },
  {
   "cell_type": "code",
   "execution_count": 14,
   "id": "500e14ab",
   "metadata": {},
   "outputs": [
    {
     "data": {
      "text/plain": [
       "(array([ 63., 171., 151., 154., 144., 109.,  93.,  46.,  34.,  40.]),\n",
       " array([102. , 145.8, 189.6, 233.4, 277.2, 321. , 364.8, 408.6, 452.4,\n",
       "        496.2, 540. ]),\n",
       " <BarContainer object of 10 artists>)"
      ]
     },
     "execution_count": 14,
     "metadata": {},
     "output_type": "execute_result"
    },
    {
     "data": {
      "image/png": "[encoded data removed]",
      "text/plain": [
       "<Figure size 432x288 with 1 Axes>"
      ]
     },
     "metadata": {
      "needs_background": "light"
     },
     "output_type": "display_data"
    }
   ],
   "source": [
    "plt.hist(df.cement)"
   ]
  },
  {
   "cell_type": "code",
   "execution_count": 15,
   "id": "141aa130",
   "metadata": {},
   "outputs": [
    {
     "data": {
      "text/plain": [
       "Index(['cement', 'slag', 'ash', 'water', 'superplastic', 'coarseagg',\n",
       "       'fineagg', 'age', 'strength'],\n",
       "      dtype='object')"
      ]
     },
     "execution_count": 15,
     "metadata": {},
     "output_type": "execute_result"
    }
   ],
   "source": [
    "df.columns"
   ]
  },
  {
   "cell_type": "code",
   "execution_count": 16,
   "id": "7c2a08c8",
   "metadata": {},
   "outputs": [],
   "source": [
    "l = ['cement', 'slag', 'ash', 'water', 'superplastic', 'coarseagg',\n",
    "       'fineagg', 'age']\n",
    "for x in l:\n",
    "    df[x].replace(0,df[x].mean(),inplace = True)"
   ]
  },
  {
   "cell_type": "code",
   "execution_count": 17,
   "id": "98146bb9",
   "metadata": {},
   "outputs": [
    {
     "data": {
      "text/html": [
       "<div>\n",
       "<style scoped>\n",
       "    .dataframe tbody tr th:only-of-type {\n",
       "        vertical-align: middle;\n",
       "    }\n",
       "\n",
       "    .dataframe tbody tr th {\n",
       "        vertical-align: top;\n",
       "    }\n",
       "\n",
       "    .dataframe thead th {\n",
       "        text-align: right;\n",
       "    }\n",
       "</style>\n",
       "<table border=\"1\" class=\"dataframe\">\n",
       "  <thead>\n",
       "    <tr style=\"text-align: right;\">\n",
       "      <th></th>\n",
       "      <th>cement</th>\n",
       "      <th>slag</th>\n",
       "      <th>ash</th>\n",
       "      <th>water</th>\n",
       "      <th>superplastic</th>\n",
       "      <th>coarseagg</th>\n",
       "      <th>fineagg</th>\n",
       "      <th>age</th>\n",
       "      <th>strength</th>\n",
       "    </tr>\n",
       "  </thead>\n",
       "  <tbody>\n",
       "    <tr>\n",
       "      <th>0</th>\n",
       "      <td>141.3</td>\n",
       "      <td>212.000000</td>\n",
       "      <td>55.536318</td>\n",
       "      <td>203.5</td>\n",
       "      <td>6.033234</td>\n",
       "      <td>971.8</td>\n",
       "      <td>748.5</td>\n",
       "      <td>28</td>\n",
       "      <td>29.89</td>\n",
       "    </tr>\n",
       "    <tr>\n",
       "      <th>1</th>\n",
       "      <td>168.9</td>\n",
       "      <td>42.200000</td>\n",
       "      <td>124.300000</td>\n",
       "      <td>158.3</td>\n",
       "      <td>10.800000</td>\n",
       "      <td>1080.8</td>\n",
       "      <td>796.2</td>\n",
       "      <td>14</td>\n",
       "      <td>23.51</td>\n",
       "    </tr>\n",
       "    <tr>\n",
       "      <th>2</th>\n",
       "      <td>250.0</td>\n",
       "      <td>72.043483</td>\n",
       "      <td>95.700000</td>\n",
       "      <td>187.4</td>\n",
       "      <td>5.500000</td>\n",
       "      <td>956.9</td>\n",
       "      <td>861.2</td>\n",
       "      <td>28</td>\n",
       "      <td>29.22</td>\n",
       "    </tr>\n",
       "    <tr>\n",
       "      <th>3</th>\n",
       "      <td>266.0</td>\n",
       "      <td>114.000000</td>\n",
       "      <td>55.536318</td>\n",
       "      <td>228.0</td>\n",
       "      <td>6.033234</td>\n",
       "      <td>932.0</td>\n",
       "      <td>670.0</td>\n",
       "      <td>28</td>\n",
       "      <td>45.85</td>\n",
       "    </tr>\n",
       "    <tr>\n",
       "      <th>4</th>\n",
       "      <td>154.8</td>\n",
       "      <td>183.400000</td>\n",
       "      <td>55.536318</td>\n",
       "      <td>193.3</td>\n",
       "      <td>9.100000</td>\n",
       "      <td>1047.4</td>\n",
       "      <td>696.7</td>\n",
       "      <td>28</td>\n",
       "      <td>18.29</td>\n",
       "    </tr>\n",
       "    <tr>\n",
       "      <th>...</th>\n",
       "      <td>...</td>\n",
       "      <td>...</td>\n",
       "      <td>...</td>\n",
       "      <td>...</td>\n",
       "      <td>...</td>\n",
       "      <td>...</td>\n",
       "      <td>...</td>\n",
       "      <td>...</td>\n",
       "      <td>...</td>\n",
       "    </tr>\n",
       "    <tr>\n",
       "      <th>1025</th>\n",
       "      <td>135.0</td>\n",
       "      <td>72.043483</td>\n",
       "      <td>166.000000</td>\n",
       "      <td>180.0</td>\n",
       "      <td>10.000000</td>\n",
       "      <td>961.0</td>\n",
       "      <td>805.0</td>\n",
       "      <td>28</td>\n",
       "      <td>13.29</td>\n",
       "    </tr>\n",
       "    <tr>\n",
       "      <th>1026</th>\n",
       "      <td>531.3</td>\n",
       "      <td>72.043483</td>\n",
       "      <td>55.536318</td>\n",
       "      <td>141.8</td>\n",
       "      <td>28.200000</td>\n",
       "      <td>852.1</td>\n",
       "      <td>893.7</td>\n",
       "      <td>3</td>\n",
       "      <td>41.30</td>\n",
       "    </tr>\n",
       "    <tr>\n",
       "      <th>1027</th>\n",
       "      <td>276.4</td>\n",
       "      <td>116.000000</td>\n",
       "      <td>90.300000</td>\n",
       "      <td>179.6</td>\n",
       "      <td>8.900000</td>\n",
       "      <td>870.1</td>\n",
       "      <td>768.3</td>\n",
       "      <td>28</td>\n",
       "      <td>44.28</td>\n",
       "    </tr>\n",
       "    <tr>\n",
       "      <th>1028</th>\n",
       "      <td>342.0</td>\n",
       "      <td>38.000000</td>\n",
       "      <td>55.536318</td>\n",
       "      <td>228.0</td>\n",
       "      <td>6.033234</td>\n",
       "      <td>932.0</td>\n",
       "      <td>670.0</td>\n",
       "      <td>270</td>\n",
       "      <td>55.06</td>\n",
       "    </tr>\n",
       "    <tr>\n",
       "      <th>1029</th>\n",
       "      <td>540.0</td>\n",
       "      <td>72.043483</td>\n",
       "      <td>55.536318</td>\n",
       "      <td>173.0</td>\n",
       "      <td>6.033234</td>\n",
       "      <td>1125.0</td>\n",
       "      <td>613.0</td>\n",
       "      <td>7</td>\n",
       "      <td>52.61</td>\n",
       "    </tr>\n",
       "  </tbody>\n",
       "</table>\n",
       "<p>1005 rows × 9 columns</p>\n",
       "</div>"
      ],
      "text/plain": [
       "      cement        slag         ash  water  superplastic  coarseagg  fineagg  \\\n",
       "0      141.3  212.000000   55.536318  203.5      6.033234      971.8    748.5   \n",
       "1      168.9   42.200000  124.300000  158.3     10.800000     1080.8    796.2   \n",
       "2      250.0   72.043483   95.700000  187.4      5.500000      956.9    861.2   \n",
       "3      266.0  114.000000   55.536318  228.0      6.033234      932.0    670.0   \n",
       "4      154.8  183.400000   55.536318  193.3      9.100000     1047.4    696.7   \n",
       "...      ...         ...         ...    ...           ...        ...      ...   \n",
       "1025   135.0   72.043483  166.000000  180.0     10.000000      961.0    805.0   \n",
       "1026   531.3   72.043483   55.536318  141.8     28.200000      852.1    893.7   \n",
       "1027   276.4  116.000000   90.300000  179.6      8.900000      870.1    768.3   \n",
       "1028   342.0   38.000000   55.536318  228.0      6.033234      932.0    670.0   \n",
       "1029   540.0   72.043483   55.536318  173.0      6.033234     1125.0    613.0   \n",
       "\n",
       "      age  strength  \n",
       "0      28     29.89  \n",
       "1      14     23.51  \n",
       "2      28     29.22  \n",
       "3      28     45.85  \n",
       "4      28     18.29  \n",
       "...   ...       ...  \n",
       "1025   28     13.29  \n",
       "1026    3     41.30  \n",
       "1027   28     44.28  \n",
       "1028  270     55.06  \n",
       "1029    7     52.61  \n",
       "\n",
       "[1005 rows x 9 columns]"
      ]
     },
     "execution_count": 17,
     "metadata": {},
     "output_type": "execute_result"
    }
   ],
   "source": [
    "df"
   ]
  },
  {
   "cell_type": "code",
   "execution_count": 31,
   "id": "068da832",
   "metadata": {},
   "outputs": [],
   "source": [
    "df['strength'] = pd.cut(x=df['strength'], bins=3,\n",
    "                    labels=[\"weak\",\"strong\",\"very strong\"])\n",
    "\n",
    "\n"
   ]
  },
  {
   "cell_type": "code",
   "execution_count": 38,
   "id": "7c35c63c",
   "metadata": {},
   "outputs": [],
   "source": [
    "from sklearn.preprocessing import LabelEncoder\n",
    "le=LabelEncoder()"
   ]
  },
  {
   "cell_type": "code",
   "execution_count": 39,
   "id": "d1bc28f9",
   "metadata": {},
   "outputs": [],
   "source": [
    "i=le.fit_transform(df['strength'])\n",
    "df['strength']=i"
   ]
  },
  {
   "cell_type": "code",
   "execution_count": 40,
   "id": "bf809299",
   "metadata": {},
   "outputs": [
    {
     "data": {
      "text/html": [
       "<div>\n",
       "<style scoped>\n",
       "    .dataframe tbody tr th:only-of-type {\n",
       "        vertical-align: middle;\n",
       "    }\n",
       "\n",
       "    .dataframe tbody tr th {\n",
       "        vertical-align: top;\n",
       "    }\n",
       "\n",
       "    .dataframe thead th {\n",
       "        text-align: right;\n",
       "    }\n",
       "</style>\n",
       "<table border=\"1\" class=\"dataframe\">\n",
       "  <thead>\n",
       "    <tr style=\"text-align: right;\">\n",
       "      <th></th>\n",
       "      <th>cement</th>\n",
       "      <th>slag</th>\n",
       "      <th>ash</th>\n",
       "      <th>water</th>\n",
       "      <th>superplastic</th>\n",
       "      <th>coarseagg</th>\n",
       "      <th>fineagg</th>\n",
       "      <th>age</th>\n",
       "      <th>strength</th>\n",
       "    </tr>\n",
       "  </thead>\n",
       "  <tbody>\n",
       "    <tr>\n",
       "      <th>0</th>\n",
       "      <td>141.3</td>\n",
       "      <td>212.000000</td>\n",
       "      <td>55.536318</td>\n",
       "      <td>203.5</td>\n",
       "      <td>6.033234</td>\n",
       "      <td>971.8</td>\n",
       "      <td>748.5</td>\n",
       "      <td>28</td>\n",
       "      <td>0</td>\n",
       "    </tr>\n",
       "    <tr>\n",
       "      <th>1</th>\n",
       "      <td>168.9</td>\n",
       "      <td>42.200000</td>\n",
       "      <td>124.300000</td>\n",
       "      <td>158.3</td>\n",
       "      <td>10.800000</td>\n",
       "      <td>1080.8</td>\n",
       "      <td>796.2</td>\n",
       "      <td>14</td>\n",
       "      <td>2</td>\n",
       "    </tr>\n",
       "    <tr>\n",
       "      <th>2</th>\n",
       "      <td>250.0</td>\n",
       "      <td>72.043483</td>\n",
       "      <td>95.700000</td>\n",
       "      <td>187.4</td>\n",
       "      <td>5.500000</td>\n",
       "      <td>956.9</td>\n",
       "      <td>861.2</td>\n",
       "      <td>28</td>\n",
       "      <td>0</td>\n",
       "    </tr>\n",
       "    <tr>\n",
       "      <th>3</th>\n",
       "      <td>266.0</td>\n",
       "      <td>114.000000</td>\n",
       "      <td>55.536318</td>\n",
       "      <td>228.0</td>\n",
       "      <td>6.033234</td>\n",
       "      <td>932.0</td>\n",
       "      <td>670.0</td>\n",
       "      <td>28</td>\n",
       "      <td>0</td>\n",
       "    </tr>\n",
       "    <tr>\n",
       "      <th>4</th>\n",
       "      <td>154.8</td>\n",
       "      <td>183.400000</td>\n",
       "      <td>55.536318</td>\n",
       "      <td>193.3</td>\n",
       "      <td>9.100000</td>\n",
       "      <td>1047.4</td>\n",
       "      <td>696.7</td>\n",
       "      <td>28</td>\n",
       "      <td>2</td>\n",
       "    </tr>\n",
       "    <tr>\n",
       "      <th>...</th>\n",
       "      <td>...</td>\n",
       "      <td>...</td>\n",
       "      <td>...</td>\n",
       "      <td>...</td>\n",
       "      <td>...</td>\n",
       "      <td>...</td>\n",
       "      <td>...</td>\n",
       "      <td>...</td>\n",
       "      <td>...</td>\n",
       "    </tr>\n",
       "    <tr>\n",
       "      <th>1025</th>\n",
       "      <td>135.0</td>\n",
       "      <td>72.043483</td>\n",
       "      <td>166.000000</td>\n",
       "      <td>180.0</td>\n",
       "      <td>10.000000</td>\n",
       "      <td>961.0</td>\n",
       "      <td>805.0</td>\n",
       "      <td>28</td>\n",
       "      <td>2</td>\n",
       "    </tr>\n",
       "    <tr>\n",
       "      <th>1026</th>\n",
       "      <td>531.3</td>\n",
       "      <td>72.043483</td>\n",
       "      <td>55.536318</td>\n",
       "      <td>141.8</td>\n",
       "      <td>28.200000</td>\n",
       "      <td>852.1</td>\n",
       "      <td>893.7</td>\n",
       "      <td>3</td>\n",
       "      <td>0</td>\n",
       "    </tr>\n",
       "    <tr>\n",
       "      <th>1027</th>\n",
       "      <td>276.4</td>\n",
       "      <td>116.000000</td>\n",
       "      <td>90.300000</td>\n",
       "      <td>179.6</td>\n",
       "      <td>8.900000</td>\n",
       "      <td>870.1</td>\n",
       "      <td>768.3</td>\n",
       "      <td>28</td>\n",
       "      <td>0</td>\n",
       "    </tr>\n",
       "    <tr>\n",
       "      <th>1028</th>\n",
       "      <td>342.0</td>\n",
       "      <td>38.000000</td>\n",
       "      <td>55.536318</td>\n",
       "      <td>228.0</td>\n",
       "      <td>6.033234</td>\n",
       "      <td>932.0</td>\n",
       "      <td>670.0</td>\n",
       "      <td>270</td>\n",
       "      <td>0</td>\n",
       "    </tr>\n",
       "    <tr>\n",
       "      <th>1029</th>\n",
       "      <td>540.0</td>\n",
       "      <td>72.043483</td>\n",
       "      <td>55.536318</td>\n",
       "      <td>173.0</td>\n",
       "      <td>6.033234</td>\n",
       "      <td>1125.0</td>\n",
       "      <td>613.0</td>\n",
       "      <td>7</td>\n",
       "      <td>0</td>\n",
       "    </tr>\n",
       "  </tbody>\n",
       "</table>\n",
       "<p>1005 rows × 9 columns</p>\n",
       "</div>"
      ],
      "text/plain": [
       "      cement        slag         ash  water  superplastic  coarseagg  fineagg  \\\n",
       "0      141.3  212.000000   55.536318  203.5      6.033234      971.8    748.5   \n",
       "1      168.9   42.200000  124.300000  158.3     10.800000     1080.8    796.2   \n",
       "2      250.0   72.043483   95.700000  187.4      5.500000      956.9    861.2   \n",
       "3      266.0  114.000000   55.536318  228.0      6.033234      932.0    670.0   \n",
       "4      154.8  183.400000   55.536318  193.3      9.100000     1047.4    696.7   \n",
       "...      ...         ...         ...    ...           ...        ...      ...   \n",
       "1025   135.0   72.043483  166.000000  180.0     10.000000      961.0    805.0   \n",
       "1026   531.3   72.043483   55.536318  141.8     28.200000      852.1    893.7   \n",
       "1027   276.4  116.000000   90.300000  179.6      8.900000      870.1    768.3   \n",
       "1028   342.0   38.000000   55.536318  228.0      6.033234      932.0    670.0   \n",
       "1029   540.0   72.043483   55.536318  173.0      6.033234     1125.0    613.0   \n",
       "\n",
       "      age  strength  \n",
       "0      28         0  \n",
       "1      14         2  \n",
       "2      28         0  \n",
       "3      28         0  \n",
       "4      28         2  \n",
       "...   ...       ...  \n",
       "1025   28         2  \n",
       "1026    3         0  \n",
       "1027   28         0  \n",
       "1028  270         0  \n",
       "1029    7         0  \n",
       "\n",
       "[1005 rows x 9 columns]"
      ]
     },
     "execution_count": 40,
     "metadata": {},
     "output_type": "execute_result"
    }
   ],
   "source": [
    "df"
   ]
  },
  {
   "cell_type": "code",
   "execution_count": 41,
   "id": "a56a44ed",
   "metadata": {},
   "outputs": [],
   "source": [
    "from sklearn import preprocessing\n",
    "from sklearn.model_selection import train_test_split\n",
    "from sklearn.tree import DecisionTreeClassifier\n"
   ]
  },
  {
   "cell_type": "code",
   "execution_count": 42,
   "id": "f148c812",
   "metadata": {},
   "outputs": [],
   "source": [
    "x = df.drop('strength',axis=1).values     #creating the independent variables\n",
    "y = df['strength'].values"
   ]
  },
  {
   "cell_type": "code",
   "execution_count": 43,
   "id": "5cf33ff2",
   "metadata": {},
   "outputs": [],
   "source": [
    "x_train,x_test,y_train,y_test = train_test_split(x,y,test_size=0.2)"
   ]
  },
  {
   "cell_type": "code",
   "execution_count": 44,
   "id": "e2fb71eb",
   "metadata": {},
   "outputs": [],
   "source": [
    "from sklearn.preprocessing import StandardScaler\n",
    "\n",
    "standard_Scaler=StandardScaler()\n",
    "x_train = standard_Scaler.fit_transform(x_train)   #fit generates the parameters, transform applies \n",
    "x_test = standard_Scaler.transform(x_test)  "
   ]
  },
  {
   "cell_type": "code",
   "execution_count": 46,
   "id": "acc81d21",
   "metadata": {},
   "outputs": [],
   "source": [
    "from sklearn.metrics import confusion_matrix , classification_report , accuracy_score\n",
    "from sklearn.metrics import roc_curve, auc"
   ]
  },
  {
   "cell_type": "code",
   "execution_count": 47,
   "id": "6db47c2d",
   "metadata": {},
   "outputs": [
    {
     "name": "stdout",
     "output_type": "stream",
     "text": [
      "Accuracy Score for model with depth 4 is:  0.7611940298507462\n"
     ]
    }
   ],
   "source": [
    "model_dt_4 = DecisionTreeClassifier(random_state=1,max_depth=4)\n",
    "model_dt_4.fit(x_train,y_train)\n",
    "\n",
    "y_pred_4 = model_dt_4.predict(x_test)\n",
    "accuracy_score_4 = accuracy_score(y_test,y_pred_4)\n",
    "print('Accuracy Score for model with depth 4 is: ',accuracy_score_4)"
   ]
  },
  {
   "cell_type": "code",
   "execution_count": 48,
   "id": "cb1e4776",
   "metadata": {},
   "outputs": [
    {
     "name": "stdout",
     "output_type": "stream",
     "text": [
      "Accuracy Score for model with depth 6 is:  0.7860696517412935\n"
     ]
    }
   ],
   "source": [
    "model_dt_6 = DecisionTreeClassifier(random_state=1,max_depth=6)\n",
    "model_dt_6.fit(x_train,y_train)\n",
    "\n",
    "y_pred_6 = model_dt_6.predict(x_test)\n",
    "accuracy_score_6 = accuracy_score(y_test,y_pred_6)\n",
    "print('Accuracy Score for model with depth 6 is: ',accuracy_score_6)"
   ]
  },
  {
   "cell_type": "code",
   "execution_count": 49,
   "id": "0e522be2",
   "metadata": {},
   "outputs": [
    {
     "name": "stdout",
     "output_type": "stream",
     "text": [
      "Accuracy Score for model with depth 8 is:  0.7810945273631841\n"
     ]
    }
   ],
   "source": [
    "model_dt_8 = DecisionTreeClassifier(random_state=1,max_depth=8)\n",
    "model_dt_8.fit(x_train,y_train)\n",
    "\n",
    "y_pred_8 = model_dt_8.predict(x_test)\n",
    "accuracy_score_8 = accuracy_score(y_test,y_pred_8)\n",
    "print('Accuracy Score for model with depth 8 is: ',accuracy_score_8)"
   ]
  },
  {
   "cell_type": "code",
   "execution_count": 50,
   "id": "39d832bf",
   "metadata": {},
   "outputs": [
    {
     "name": "stdout",
     "output_type": "stream",
     "text": [
      "Accuracy Score for model with depth 4 is:  0.7910447761194029\n"
     ]
    }
   ],
   "source": [
    "model_dt_ent = DecisionTreeClassifier(max_depth=4,criterion='entropy')\n",
    "model_dt_ent.fit(x_train,y_train)\n",
    "\n",
    "y_pred_ent = model_dt_ent.predict(x_test)\n",
    "\n",
    "accuracy_score_4 = accuracy_score(y_test,y_pred_ent)\n",
    "print('Accuracy Score for model with depth 4 is: ',accuracy_score_4)"
   ]
  },
  {
   "cell_type": "code",
   "execution_count": 51,
   "id": "f3754853",
   "metadata": {},
   "outputs": [
    {
     "name": "stdout",
     "output_type": "stream",
     "text": [
      "              precision    recall  f1-score   support\n",
      "\n",
      "           0       0.72      0.93      0.81        97\n",
      "           1       0.83      0.43      0.57        23\n",
      "           2       0.92      0.73      0.81        81\n",
      "\n",
      "    accuracy                           0.79       201\n",
      "   macro avg       0.83      0.70      0.73       201\n",
      "weighted avg       0.81      0.79      0.78       201\n",
      "\n"
     ]
    }
   ],
   "source": [
    "print(classification_report(y_test,y_pred_ent))"
   ]
  },
  {
   "cell_type": "code",
   "execution_count": 54,
   "id": "2fea2b25",
   "metadata": {},
   "outputs": [],
   "source": [
    "from sklearn.model_selection import train_test_split, GridSearchCV\n",
    "from sklearn.ensemble import RandomForestClassifier \n"
   ]
  },
  {
   "cell_type": "code",
   "execution_count": 55,
   "id": "8f4a833e",
   "metadata": {},
   "outputs": [],
   "source": [
    "fit_rf = RandomForestClassifier()"
   ]
  },
  {
   "cell_type": "code",
   "execution_count": 56,
   "id": "48f79820",
   "metadata": {},
   "outputs": [
    {
     "name": "stdout",
     "output_type": "stream",
     "text": [
      "Best Parameters using grid search: \n",
      " {'bootstrap': True, 'criterion': 'entropy', 'max_depth': 4, 'max_features': None}\n"
     ]
    }
   ],
   "source": [
    "param_dist = {'max_depth': [2, 3, 4],\n",
    "              'max_features': ['auto', 'sqrt', 'log2', None],\n",
    "                'bootstrap' : [True, False],\n",
    "              'criterion': ['gini', 'entropy']}\n",
    "\n",
    "# Running gridsearchCV to check for all the different PnCs of these parameter values\n",
    "cv_rf = GridSearchCV(fit_rf, cv = 10,\n",
    "                     param_grid=param_dist, \n",
    "                     n_jobs = 3)\n",
    "\n",
    "#Fitting the train set , so that grid search is executed on this dataset\n",
    "cv_rf.fit(x_train, y_train)\n",
    "\n",
    "#Printing the best parameters by using best_params\n",
    "print('Best Parameters using grid search: \\n', cv_rf.best_params_)"
   ]
  },
  {
   "cell_type": "code",
   "execution_count": 60,
   "id": "aae84ccf",
   "metadata": {},
   "outputs": [
    {
     "data": {
      "text/plain": [
       "RandomForestClassifier(criterion='entropy', max_depth=4, max_features=None)"
      ]
     },
     "execution_count": 60,
     "metadata": {},
     "output_type": "execute_result"
    }
   ],
   "source": [
    "fit_rf.set_params(criterion = 'entropy',\n",
    "                  max_features = None, \n",
    "                  bootstrap = True,\n",
    "                  max_depth = 4)"
   ]
  },
  {
   "cell_type": "code",
   "execution_count": 61,
   "id": "68de2478",
   "metadata": {},
   "outputs": [
    {
     "data": {
      "text/plain": [
       "<bound method BaseEstimator.get_params of RandomForestClassifier(criterion='entropy', max_depth=4, max_features=None)>"
      ]
     },
     "execution_count": 61,
     "metadata": {},
     "output_type": "execute_result"
    }
   ],
   "source": [
    "fit_rf.get_params"
   ]
  },
  {
   "cell_type": "code",
   "execution_count": 62,
   "id": "dde8a2af",
   "metadata": {},
   "outputs": [],
   "source": [
    "fit_rf.fit(x_train, y_train)\n",
    "y_pred = fit_rf.predict(x_test)"
   ]
  },
  {
   "cell_type": "code",
   "execution_count": 63,
   "id": "640ee1be",
   "metadata": {},
   "outputs": [
    {
     "data": {
      "text/plain": [
       "0.7910447761194029"
      ]
     },
     "execution_count": 63,
     "metadata": {},
     "output_type": "execute_result"
    }
   ],
   "source": [
    "accuracy_rf = accuracy_score(y_test,y_pred)\n",
    "accuracy_rf"
   ]
  },
  {
   "cell_type": "code",
   "execution_count": 64,
   "id": "d940e1ab",
   "metadata": {},
   "outputs": [
    {
     "data": {
      "text/plain": [
       "array([0.78881988, 0.7826087 , 0.77639752, 0.78881988, 0.8125    ])"
      ]
     },
     "execution_count": 64,
     "metadata": {},
     "output_type": "execute_result"
    }
   ],
   "source": [
    "from sklearn.model_selection import cross_val_score\n",
    "\n",
    "scores = cross_val_score(fit_rf, x_train, y_train, cv=5)\n",
    "scores"
   ]
  },
  {
   "cell_type": "code",
   "execution_count": 65,
   "id": "7c7421a3",
   "metadata": {},
   "outputs": [
    {
     "data": {
      "text/plain": [
       "0.7898291925465839"
      ]
     },
     "execution_count": 65,
     "metadata": {},
     "output_type": "execute_result"
    }
   ],
   "source": [
    "scores.mean()"
   ]
  },
  {
   "cell_type": "code",
   "execution_count": 67,
   "id": "59d9caf0",
   "metadata": {},
   "outputs": [
    {
     "name": "stdout",
     "output_type": "stream",
     "text": [
      "Accuracy Score:\n",
      "0.7761194029850746\n"
     ]
    }
   ],
   "source": [
    "from sklearn.svm import SVC     #support Vector Classifier\n",
    "from sklearn import metrics    #default kernel is rbf\n",
    "svc = SVC(random_state = 5)\n",
    "svc.fit(x_train,y_train)\n",
    "y_pred = svc.predict(x_test)\n",
    "print('Accuracy Score:')\n",
    "print(metrics.accuracy_score(y_test,y_pred))"
   ]
  },
  {
   "cell_type": "code",
   "execution_count": 69,
   "id": "fc54d61a",
   "metadata": {},
   "outputs": [
    {
     "name": "stdout",
     "output_type": "stream",
     "text": [
      "Accuracy Score:\n",
      "0.7810945273631841\n"
     ]
    }
   ],
   "source": [
    "svc = SVC(kernel='linear')\n",
    "svc.fit(x_train,y_train)\n",
    "y_pred = svc.predict(x_test)\n",
    "print('Accuracy Score:')\n",
    "print(metrics.accuracy_score(y_test,y_pred))"
   ]
  },
  {
   "cell_type": "code",
   "execution_count": 70,
   "id": "af4e097a",
   "metadata": {},
   "outputs": [],
   "source": [
    "tuned_parameter = {'C': [0.1, 1, 10, 100, 1000],        #High C values ensure high accuracy\n",
    "              'gamma': [1, 0.1, 0.01, 0.001, 0.0001],   #Low gamma values ensure high margins\n",
    "              'kernel': ['linear','rbf','ploy']}"
   ]
  },
  {
   "cell_type": "code",
   "execution_count": 71,
   "id": "cd6900bc",
   "metadata": {},
   "outputs": [],
   "source": [
    "from sklearn.model_selection import GridSearchCV\n",
    "\n",
    "model_svm = GridSearchCV(svc,tuned_parameter,cv=10,scoring='accuracy')"
   ]
  },
  {
   "cell_type": "code",
   "execution_count": 72,
   "id": "997f2bdd",
   "metadata": {},
   "outputs": [
    {
     "name": "stdout",
     "output_type": "stream",
     "text": [
      "0.8334259259259259\n"
     ]
    },
    {
     "name": "stderr",
     "output_type": "stream",
     "text": [
      "C:\\Users\\HP\\anaconda3\\lib\\site-packages\\sklearn\\model_selection\\_validation.py:372: FitFailedWarning: \n",
      "250 fits failed out of a total of 750.\n",
      "The score on these train-test partitions for these parameters will be set to nan.\n",
      "If these failures are not expected, you can try to debug them by setting error_score='raise'.\n",
      "\n",
      "Below are more details about the failures:\n",
      "--------------------------------------------------------------------------------\n",
      "250 fits failed with the following error:\n",
      "Traceback (most recent call last):\n",
      "  File \"C:\\Users\\HP\\anaconda3\\lib\\site-packages\\sklearn\\model_selection\\_validation.py\", line 680, in _fit_and_score\n",
      "    estimator.fit(X_train, y_train, **fit_params)\n",
      "  File \"C:\\Users\\HP\\anaconda3\\lib\\site-packages\\sklearn\\svm\\_base.py\", line 255, in fit\n",
      "    fit(X, y, sample_weight, solver_type, kernel, random_seed=seed)\n",
      "  File \"C:\\Users\\HP\\anaconda3\\lib\\site-packages\\sklearn\\svm\\_base.py\", line 315, in _dense_fit\n",
      "    ) = libsvm.fit(\n",
      "  File \"sklearn\\svm\\_libsvm.pyx\", line 173, in sklearn.svm._libsvm.fit\n",
      "ValueError: 'ploy' is not in list\n",
      "\n",
      "  warnings.warn(some_fits_failed_message, FitFailedWarning)\n",
      "C:\\Users\\HP\\anaconda3\\lib\\site-packages\\sklearn\\model_selection\\_search.py:969: UserWarning: One or more of the test scores are non-finite: [0.74625    0.59578704        nan 0.74625    0.68912037        nan\n",
      " 0.74625    0.51740741        nan 0.74625    0.51740741        nan\n",
      " 0.74625    0.51740741        nan 0.75246914 0.7474537         nan\n",
      " 0.75246914 0.76739198        nan 0.75246914 0.71271605        nan\n",
      " 0.75246914 0.51740741        nan 0.75246914 0.51740741        nan\n",
      " 0.76118827 0.78859568        nan 0.76118827 0.8171142         nan\n",
      " 0.76118827 0.76993827        nan 0.76118827 0.71146605        nan\n",
      " 0.76118827 0.51740741        nan 0.76243827 0.79103395        nan\n",
      " 0.76243827 0.82964506        nan 0.76243827 0.80479938        nan\n",
      " 0.76243827 0.75742284        nan 0.76243827 0.70899691        nan\n",
      " 0.76118827 0.79100309        nan 0.76118827 0.83342593        nan\n",
      " 0.76118827 0.8283642         nan 0.76118827 0.79478395        nan\n",
      " 0.76118827 0.75117284        nan]\n",
      "  warnings.warn(\n"
     ]
    }
   ],
   "source": [
    "model_svm.fit(x_train,y_train)\n",
    "print(model_svm.best_score_)"
   ]
  },
  {
   "cell_type": "code",
   "execution_count": 73,
   "id": "7bacc9f1",
   "metadata": {},
   "outputs": [
    {
     "name": "stdout",
     "output_type": "stream",
     "text": [
      "{'C': 1000, 'gamma': 0.1, 'kernel': 'rbf'}\n"
     ]
    }
   ],
   "source": [
    "print(model_svm.best_params_)"
   ]
  },
  {
   "cell_type": "code",
   "execution_count": 74,
   "id": "b1d1e2d0",
   "metadata": {},
   "outputs": [
    {
     "name": "stdout",
     "output_type": "stream",
     "text": [
      "Accuracy Score:\n",
      "0.835820895522388\n"
     ]
    }
   ],
   "source": [
    "svc = SVC(kernel='rbf',C=1000,gamma=0.1)\n",
    "svc.fit(x_train,y_train)\n",
    "y_pred = svc.predict(x_test)\n",
    "print('Accuracy Score:')\n",
    "print(metrics.accuracy_score(y_test,y_pred))"
   ]
  },
  {
   "cell_type": "code",
   "execution_count": null,
   "id": "12e5bb62",
   "metadata": {},
   "outputs": [],
   "source": []
  }
 ],
 "metadata": {
  "kernelspec": {
   "display_name": "Python 3 (ipykernel)",
   "language": "python",
   "name": "python3"
  },
  "language_info": {
   "codemirror_mode": {
    "name": "ipython",
    "version": 3
   },
   "file_extension": ".py",
   "mimetype": "text/x-python",
   "name": "python",
   "nbconvert_exporter": "python",
   "pygments_lexer": "ipython3",
   "version": "3.9.12"
  }
 },
 "nbformat": 4,
 "nbformat_minor": 5
}
